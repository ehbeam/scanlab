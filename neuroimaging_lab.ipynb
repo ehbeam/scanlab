{
 "cells": [
  {
   "cell_type": "markdown",
   "metadata": {},
   "source": [
    "# Neuroimaging Lab\n",
    "\n",
    "Welcome to the neuroimaging lab! Our learning objectives are as follows:\n",
    "\n",
    "1. Navigate through an anatomical MRI scan, identifying brain structures we've learned about so far this quarter.\n",
    "2. Analyze an fMRI dataset, learning the basic statistics involved and caveats for their interpretation.\n",
    "\n",
    "\n",
    "### Dependencies\n",
    "\n",
    "If you would like to run the code in this notebook from your own computer, you will need to have Python 3 and Jupyter installed. You can accomplish both steps at once by downloading [Anaconda](https://www.anaconda.com/download), which is recommended. To install the module we will be using, you will need to execute the following command from a terminal:\n",
    "\n",
    "`pip3 install nilearn`\n",
    "\n",
    "Finally, to launch the notebook, execute this command:\n",
    "\n",
    "`jupyter notebook`"
   ]
  },
  {
   "cell_type": "code",
   "execution_count": 15,
   "metadata": {},
   "outputs": [],
   "source": [
    "import niwidget_nbio as niwidget\n",
    "from nilearn import datasets, plotting"
   ]
  },
  {
   "cell_type": "code",
   "execution_count": 25,
   "metadata": {},
   "outputs": [
    {
     "name": "stdout",
     "output_type": "stream",
     "text": [
      "\n",
      "Dataset created in ./icbm152_2009\n",
      "\n",
      "Downloading data from http://www.bic.mni.mcgill.ca/~vfonov/icbm/2009/mni_icbm152_nlin_sym_09a_nifti.zip ...\n"
     ]
    },
    {
     "name": "stderr",
     "output_type": "stream",
     "text": [
      "Downloaded 63116438 of 63116438 bytes (100.0%,    0.0s remaining) ...done. (13 seconds, 0 min)\n",
      "Extracting data from ./icbm152_2009/6f7789dc5278e29886939666a6657dbc/mni_icbm152_nlin_sym_09a_nifti.zip..... done.\n"
     ]
    }
   ],
   "source": [
    "anatomical = datasets.fetch_icbm152_2009(data_dir=\".\")"
   ]
  },
  {
   "cell_type": "code",
   "execution_count": 26,
   "metadata": {},
   "outputs": [
    {
     "data": {
      "application/vnd.jupyter.widget-view+json": {
       "model_id": "d7764c4a13f64a189beb08f9b4848fa8"
      }
     },
     "metadata": {},
     "output_type": "display_data"
    }
   ],
   "source": [
    "brain_viewer = niwidget.NiftiWidget(anatomical[\"t1\"])\n",
    "brain_viewer.nifti_plotter()"
   ]
  },
  {
   "cell_type": "code",
   "execution_count": null,
   "metadata": {
    "collapsed": true
   },
   "outputs": [],
   "source": []
  }
 ],
 "metadata": {
  "kernelspec": {
   "display_name": "Python 3",
   "language": "python",
   "name": "python3"
  },
  "language_info": {
   "codemirror_mode": {
    "name": "ipython",
    "version": 3
   },
   "file_extension": ".py",
   "mimetype": "text/x-python",
   "name": "python",
   "nbconvert_exporter": "python",
   "pygments_lexer": "ipython3",
   "version": "3.6.1"
  }
 },
 "nbformat": 4,
 "nbformat_minor": 2
}
